{
 "cells": [
  {
   "cell_type": "markdown",
   "metadata": {},
   "source": [
    "Data is as important to ML developers as code is to traditional programmers. This lesson focuses on the kinds of questions you should be asking of your data."
   ]
  },
  {
   "cell_type": "markdown",
   "metadata": {},
   "source": [
    "- Input data (features) determine ML system behavior.\n",
    "    - We write unit tests for software libraries, but what about data?\n",
    "- Care is required when choosing input signals.\n",
    "    - Maybe even more care than when deciding upon which software libraries to depend?"
   ]
  },
  {
   "cell_type": "markdown",
   "metadata": {},
   "source": [
    "- Reliability\n",
    "    - What happens when the signal is not available? Would you know?\n",
    "\n",
    "- Versioning\n",
    "    - Does the system that computes this signal ever change? How often? What would happen?\n",
    "\n",
    "- Necessity\n",
    "    - Does the usefulness of the signal justify the cost of including it?\n",
    "    \n",
    "- Correlations\n",
    "    - Are any of my input signals so tied together that we need additional strategies to tease apart?\n",
    "    \n",
    "- Feedback Loops\n",
    "    - Which of my input signals may be impacted by my model's outputs?"
   ]
  },
  {
   "cell_type": "markdown",
   "metadata": {},
   "source": [
    "--------------------"
   ]
  },
  {
   "cell_type": "markdown",
   "metadata": {},
   "source": [
    "#### Reliability\n",
    "Some questions to ask about the reliability of your input data:\n",
    "\n",
    "- Is the signal always going to be available or is it coming from an unreliable source? For example:\n",
    "- Is the signal coming from a server that crashes under heavy load?\n",
    "- Is the signal coming from humans that go on vacation every August?\n",
    "\n",
    "#### Versioning\n",
    "Some questions to ask about versioning:\n",
    "\n",
    "- Does the system that computes this data ever change? If so:\n",
    "- How often?\n",
    "- How will you know when that system changes?\n",
    "\n",
    "Sometimes, data comes from an upstream process. If that process changes abruptly, your model can suffer.\n",
    "\n",
    "Consider creating your own copy of the data you receive from the upstream process. Then, only advance to the next version of the upstream data when you are certain that it is safe to do so.\n",
    "\n",
    "#### Necessity\n",
    "The following question might remind you of [regularization](https://developers.google.com/machine-learning/crash-course/regularization-for-simplicity/video-lecture):\n",
    "\n",
    "- Does the usefulness of the feature justify the cost of including it?\n",
    "\n",
    "It is always tempting to add more features to the model. For example, suppose you find a new feature whose addition makes your model slightly more accurate. More accuracy certainly sounds better than less accuracy. However, now you've just added to your maintenance burden. That additional feature could degrade unexpectedly, so you've got to monitor it. Think carefully before adding features that lead to minor short-term wins.\n",
    "\n",
    "#### Correlations\n",
    "Some features correlate (positively or negatively) with other features. Ask yourself the following question:\n",
    "\n",
    "- Are any features so tied together that you need additional strategies to tease them apart?\n",
    "\n",
    "#### Feedback Loops\n",
    "Sometimes a model can affect its own training data. For example, the results from some models, in turn, are directly or indirectly input features to that same model.\n",
    "\n",
    "Sometimes a model can affect another model. For example, consider two models for predicting stock prices:\n",
    "\n",
    "- Model A, which is a bad predictive model.\n",
    "- Model B.\n",
    "\n",
    "Since Model A is buggy, it mistakenly decides to buy stock in Stock X. Those purchases drive up the price of Stock X. Model B uses the price of Stock X as an input feature, so Model B can easily come to some false conclusions about the value of Stock X stock. Model B could, therefore, buy or sell shares of Stock X based on the buggy behavior of Model A. Model B's behavior, in turn, can affect Model A, possibly triggering a [tulip mania](https://en.wikipedia.org/wiki/Tulip_mania) or a slide in Company X's stock"
   ]
  }
 ],
 "metadata": {
  "kernelspec": {
   "display_name": "Python 3",
   "language": "python",
   "name": "python3"
  },
  "language_info": {
   "codemirror_mode": {
    "name": "ipython",
    "version": 3
   },
   "file_extension": ".py",
   "mimetype": "text/x-python",
   "name": "python",
   "nbconvert_exporter": "python",
   "pygments_lexer": "ipython3",
   "version": "3.7.7"
  }
 },
 "nbformat": 4,
 "nbformat_minor": 4
}
