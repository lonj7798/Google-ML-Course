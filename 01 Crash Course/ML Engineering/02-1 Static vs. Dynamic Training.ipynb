{
 "cells": [
  {
   "cell_type": "markdown",
   "metadata": {},
   "source": [
    "Broadly speaking, there are two ways to train a model:\n",
    "\n",
    "- A **static model** is trained offline. That is, we train the model exactly once and then use that trained model for a while.\n",
    "- A **dynamic model** is trained online. That is, data is continually entering the system and we're incorporating that data into the model through continuous updates."
   ]
  },
  {
   "cell_type": "markdown",
   "metadata": {},
   "source": [
    "## ML System Paradigms: Training"
   ]
  },
  {
   "cell_type": "markdown",
   "metadata": {},
   "source": [
    "### Static Model (Trained Offline)\n",
    "- Easy to build and test - use batch train & test, iterate until good.\n",
    "- Still requires monitoring of inputs\n",
    "- Easy to let this grow stale"
   ]
  },
  {
   "cell_type": "markdown",
   "metadata": {},
   "source": [
    "### Dynamic Model (Trained Online)\n",
    "- Continue to feed in training data over time, regularly sync out updated version.\n",
    "- Use progressive validation rather than batch training & test\n",
    "- Needs monitoring, model rollback & data qurantine capabilities\n",
    "- Will adapt to cahnges, staleness issues avoided"
   ]
  },
  {
   "cell_type": "markdown",
   "metadata": {},
   "source": [
    "------------"
   ]
  },
  {
   "cell_type": "markdown",
   "metadata": {},
   "source": [
    "Broadly speaking, the following points dominate the static vs. dynamic training decision:\n",
    "\n",
    "- Static models are easier to build and test.\n",
    "- Dynamic models adapt to changing data. The world is a highly changeable place. Sales predictions built from last year's data are unlikely to successfully predict next year's results.\n",
    "\n",
    "If your data set truly isn't changing over time, choose static training because it is cheaper to create and maintain than dynamic training. However, many information sources really do change over time, even those with features that you think are as constant as, say, sea level. The moral: even with static training, you must still monitor your input data for change.\n",
    "\n",
    "For example, consider a model trained to predict the probability that users will buy flowers. Because of time pressure, the model is trained only once using a dataset of flower buying behavior during July and August. The model is then shipped off to serve predictions in production, but is never updated. The model works fine for several months, but then makes terrible predictions around [Valentine's Day](https://wikipedia.org/wiki/Valentine's_Day) because user behavior during that holiday period changes dramatically."
   ]
  }
 ],
 "metadata": {
  "kernelspec": {
   "display_name": "Python 3",
   "language": "python",
   "name": "python3"
  },
  "language_info": {
   "codemirror_mode": {
    "name": "ipython",
    "version": 3
   },
   "file_extension": ".py",
   "mimetype": "text/x-python",
   "name": "python",
   "nbconvert_exporter": "python",
   "pygments_lexer": "ipython3",
   "version": "3.7.7"
  }
 },
 "nbformat": 4,
 "nbformat_minor": 4
}
