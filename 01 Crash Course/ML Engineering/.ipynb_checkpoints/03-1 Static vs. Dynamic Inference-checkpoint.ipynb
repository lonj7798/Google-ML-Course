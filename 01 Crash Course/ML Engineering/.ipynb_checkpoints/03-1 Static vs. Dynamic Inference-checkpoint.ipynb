{
 "cells": [
  {
   "cell_type": "markdown",
   "metadata": {},
   "source": [
    "You can choose either of the following inference strategies:\n",
    "\n",
    "- **offline inference**, meaning that you make all possible predictions in a batch, using a MapReduce or something similar. You then write the predictions to an SSTable or Bigtable, and then feed these to a cache/lookup table.\n",
    "- **online inference**, meaning that you predict on demand, using a server."
   ]
  },
  {
   "cell_type": "markdown",
   "metadata": {},
   "source": [
    "**Offline** Inference\n",
    "\n",
    "- Make all possible predictions in a batch, using a mapreduce or similar.\n",
    "- Write to a table, then feed these to a cache/lookup table.\n",
    "- <span style=\"color:green\">Upside</span>: don't need to worry much about cost of inference.\n",
    "- <span style=\"color:green\">Upside</span>: can likely use batch quota.\n",
    "- <span style=\"color:green\">Upside</span>: can do post-verification of predictions on data before pushing.\n",
    "- <span style=\"color:red\">Downside</span>: can only predict things we know about -- bad for long tail.\n",
    "- <span style=\"color:red\">Downside</span>: update latency likely measured in hours or days.\n",
    "\n",
    "\n",
    "\n",
    "**Online** Inference\n",
    "\n",
    "- Predict on demand, using a server.\n",
    "- <span style=\"color:green\">Upside</span>: can predict any new item as it comes in -- great for long tail.\n",
    "- <span style=\"color:red\">Downside</span>: compute intensive, latency sensitive -- may limit model complexity.\n",
    "- <span style=\"color:red\">Downside</span>: monitoring needs are more intensive."
   ]
  }
 ],
 "metadata": {
  "kernelspec": {
   "display_name": "Python 3",
   "language": "python",
   "name": "python3"
  },
  "language_info": {
   "codemirror_mode": {
    "name": "ipython",
    "version": 3
   },
   "file_extension": ".py",
   "mimetype": "text/x-python",
   "name": "python",
   "nbconvert_exporter": "python",
   "pygments_lexer": "ipython3",
   "version": "3.7.7"
  }
 },
 "nbformat": 4,
 "nbformat_minor": 4
}
