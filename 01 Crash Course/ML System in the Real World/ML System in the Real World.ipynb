{
 "cells": [
  {
   "cell_type": "markdown",
   "metadata": {},
   "source": [
    "### [ML Systems in the Real World: Cancer Prediction](https://developers.google.com/machine-learning/crash-course/cancer-prediction)"
   ]
  },
  {
   "cell_type": "markdown",
   "metadata": {},
   "source": [
    "### [ML Systems in the Real World: Literature](https://developers.google.com/machine-learning/crash-course/18th-century-literature)"
   ]
  },
  {
   "cell_type": "markdown",
   "metadata": {},
   "source": [
    "### [ML Systems in the Real World: Guidelines](https://developers.google.com/machine-learning/crash-course/real-world-guidelines)\n",
    "\n",
    "- Keep your first model simple.\n",
    "- Focus on ensuring data pipeline correctness.\n",
    "- Use a simple, observable metric for training & evaluation.\n",
    "- Own and monitor your input features.\n",
    "- Treat your model configuration as code: review it, check it in.\n",
    "- Write down the results of all experiments, especially \"failures.\"\n",
    "- Other Resources\n",
    "\n",
    "- [Rules of Machine Learning](https://developers.google.com/machine-learning/guides/rules-of-ml/) contains additional guidance."
   ]
  },
  {
   "cell_type": "code",
   "execution_count": null,
   "metadata": {},
   "outputs": [],
   "source": []
  }
 ],
 "metadata": {
  "kernelspec": {
   "display_name": "Python 3",
   "language": "python",
   "name": "python3"
  },
  "language_info": {
   "codemirror_mode": {
    "name": "ipython",
    "version": 3
   },
   "file_extension": ".py",
   "mimetype": "text/x-python",
   "name": "python",
   "nbconvert_exporter": "python",
   "pygments_lexer": "ipython3",
   "version": "3.7.7"
  }
 },
 "nbformat": 4,
 "nbformat_minor": 4
}
