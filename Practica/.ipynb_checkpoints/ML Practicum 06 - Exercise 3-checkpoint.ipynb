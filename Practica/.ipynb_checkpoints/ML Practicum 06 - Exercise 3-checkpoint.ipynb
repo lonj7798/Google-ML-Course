{
 "cells": [
  {
   "cell_type": "markdown",
   "metadata": {
    "colab_type": "text",
    "id": "jTEzoMx6CasV"
   },
   "source": [
    "#### Copyright 2018 Google LLC."
   ]
  },
  {
   "cell_type": "code",
   "execution_count": 0,
   "metadata": {
    "colab": {},
    "colab_type": "code",
    "id": "IhmPj1VVCfWb"
   },
   "outputs": [],
   "source": [
    "# Licensed under the Apache License, Version 2.0 (the \"License\");\n",
    "# you may not use this file except in compliance with the License.\n",
    "# You may obtain a copy of the License at\n",
    "#\n",
    "# https://www.apache.org/licenses/LICENSE-2.0\n",
    "#\n",
    "# Unless required by applicable law or agreed to in writing, software\n",
    "# distributed under the License is distributed on an \"AS IS\" BASIS,\n",
    "# WITHOUT WARRANTIES OR CONDITIONS OF ANY KIND, either express or implied.\n",
    "# See the License for the specific language governing permissions and\n",
    "# limitations under the License."
   ]
  },
  {
   "cell_type": "markdown",
   "metadata": {
    "colab_type": "text",
    "id": "YHK6DyunSbs4"
   },
   "source": [
    "# Cat vs. Dog Image Classification\n",
    "## Exercise 3: Feature Extraction and Fine-Tuning\n",
    "**_Estimated completion time: 30 minutes_**\n",
    "\n",
    "In Exercise 1, we built a convnet from scratch, and were able to achieve an accuracy of about 70%. With the addition of data augmentation and dropout in Exercise 2, we were able to increase accuracy to about 80%. That seems decent, but 20% is still too high of an error rate. Maybe we just don't have enough training data available to properly solve the problem. What other approaches can we try?\n",
    "\n",
    "In this exercise, we'll look at two techniques for repurposing feature data generated from image models that have already been trained on large sets of data, **feature extraction** and **fine tuning**, and use them to improve the accuracy of our cat vs. dog classification model."
   ]
  },
  {
   "cell_type": "markdown",
   "metadata": {
    "colab_type": "text",
    "id": "dI5rmt4UBwXs"
   },
   "source": [
    "## Feature Extraction Using a Pretrained Model\n",
    "\n",
    "One thing that is commonly done in computer vision is to take a model trained on a very large dataset, run it on your own, smaller dataset, and extract the intermediate representations (features) that the model generates. These representations are frequently informative for your own computer vision task, even though the task may be quite different from the problem that the original model was trained on. This versatility and repurposability of convnets is one of the most interesting aspects of deep learning.\n",
    "\n",
    "In our case, we will use the [Inception V3 model](https://arxiv.org/abs/1512.00567) developed at Google, and pre-trained on [ImageNet](http://image-net.org/), a large dataset of web images (1.4M images and 1000 classes). This is a powerful model; let's see what the features that it has learned can do for our cat vs. dog problem.\n",
    "\n",
    "First, we need to pick which intermediate layer of Inception V3 we will use for feature extraction. A common practice is to use the output of the very last layer before the `Flatten` operation, the so-called \"bottleneck layer.\" The reasoning here is that the following fully connected layers will be too specialized for the task the network was trained on, and thus the features learned by these layers won't be very useful for a new task. The bottleneck features, however, retain much generality.\n",
    "\n",
    "Let's instantiate an Inception V3 model preloaded with weights trained on ImageNet:\n"
   ]
  },
  {
   "cell_type": "code",
   "execution_count": 0,
   "metadata": {
    "colab": {},
    "colab_type": "code",
    "id": "1xJZ5glPPCRz"
   },
   "outputs": [],
   "source": [
    "import os\n",
    "\n",
    "from tensorflow.keras import layers\n",
    "from tensorflow.keras import Model"
   ]
  },
  {
   "cell_type": "markdown",
   "metadata": {
    "colab_type": "text",
    "id": "VaXLMtYiF0t9"
   },
   "source": [
    "Now let's download the weights:"
   ]
  },
  {
   "cell_type": "code",
   "execution_count": 2,
   "metadata": {
    "colab": {
     "base_uri": "https://localhost:8080/",
     "height": 201
    },
    "colab_type": "code",
    "id": "KMrbllgAFipZ",
    "outputId": "707e58f2-7f80-48c6-d1a7-57063f66c1ec"
   },
   "outputs": [
    {
     "name": "stdout",
     "output_type": "stream",
     "text": [
      "--2020-06-12 06:12:52--  https://storage.googleapis.com/mledu-datasets/inception_v3_weights_tf_dim_ordering_tf_kernels_notop.h5\n",
      "Resolving storage.googleapis.com (storage.googleapis.com)... 74.125.203.128, 2404:6800:4008:c01::80\n",
      "Connecting to storage.googleapis.com (storage.googleapis.com)|74.125.203.128|:443... connected.\n",
      "HTTP request sent, awaiting response... 200 OK\n",
      "Length: 87910968 (84M) [application/x-hdf]\n",
      "Saving to: ‘/tmp/inception_v3_weights_tf_dim_ordering_tf_kernels_notop.h5’\n",
      "\n",
      "\r",
      "          /tmp/ince   0%[                    ]       0  --.-KB/s               \r",
      "         /tmp/incep  20%[===>                ]  17.38M  86.9MB/s               \r",
      "        /tmp/incept  28%[====>               ]  24.01M  57.6MB/s               \r",
      "       /tmp/incepti  66%[============>       ]  56.01M  69.6MB/s               \r",
      "/tmp/inception_v3_w 100%[===================>]  83.84M  89.6MB/s    in 0.9s    \n",
      "\n",
      "2020-06-12 06:12:54 (89.6 MB/s) - ‘/tmp/inception_v3_weights_tf_dim_ordering_tf_kernels_notop.h5’ saved [87910968/87910968]\n",
      "\n"
     ]
    }
   ],
   "source": [
    "!wget --no-check-certificate \\\n",
    "    https://storage.googleapis.com/mledu-datasets/inception_v3_weights_tf_dim_ordering_tf_kernels_notop.h5 \\\n",
    "    -O /tmp/inception_v3_weights_tf_dim_ordering_tf_kernels_notop.h5"
   ]
  },
  {
   "cell_type": "code",
   "execution_count": 0,
   "metadata": {
    "colab": {},
    "colab_type": "code",
    "id": "UnRiGBfOF8rq"
   },
   "outputs": [],
   "source": [
    "from tensorflow.keras.applications.inception_v3 import InceptionV3\n",
    "\n",
    "local_weights_file = '/tmp/inception_v3_weights_tf_dim_ordering_tf_kernels_notop.h5'\n",
    "pre_trained_model = InceptionV3(\n",
    "    input_shape=(150, 150, 3), include_top=False, weights=None)\n",
    "pre_trained_model.load_weights(local_weights_file)"
   ]
  },
  {
   "cell_type": "markdown",
   "metadata": {
    "colab_type": "text",
    "id": "IcYZPBS3bTAj"
   },
   "source": [
    "By specifying the `include_top=False` argument, we load a network that doesn't include the classification layers at the top—ideal for feature extraction."
   ]
  },
  {
   "cell_type": "markdown",
   "metadata": {
    "colab_type": "text",
    "id": "CFxrqTuJee5m"
   },
   "source": [
    "Let's make the model non-trainable, since we will only use it for feature extraction; we won't update the weights of the pretrained model during training."
   ]
  },
  {
   "cell_type": "code",
   "execution_count": 0,
   "metadata": {
    "colab": {},
    "colab_type": "code",
    "id": "a38rB3lyedcB"
   },
   "outputs": [],
   "source": [
    "for layer in pre_trained_model.layers:\n",
    "  layer.trainable = False"
   ]
  },
  {
   "cell_type": "markdown",
   "metadata": {
    "colab_type": "text",
    "id": "XGBGDiOAepnO"
   },
   "source": [
    "The layer we will use for feature extraction in Inception v3 is called `mixed7`. It is not the bottleneck of the network, but we are using it to keep a sufficiently large feature map (7x7 in this case). (Using the bottleneck layer would have resulting in a 3x3 feature map, which is a bit small.) Let's get the output from `mixed7`:"
   ]
  },
  {
   "cell_type": "code",
   "execution_count": 5,
   "metadata": {
    "colab": {
     "base_uri": "https://localhost:8080/",
     "height": 33
    },
    "colab_type": "code",
    "id": "Cj4rXshqbQlS",
    "outputId": "65943464-7d1d-47a7-a634-f3b26606837a"
   },
   "outputs": [
    {
     "name": "stdout",
     "output_type": "stream",
     "text": [
      "last layer output shape: (None, 7, 7, 768)\n"
     ]
    }
   ],
   "source": [
    "last_layer = pre_trained_model.get_layer('mixed7')\n",
    "print('last layer output shape:', last_layer.output_shape)\n",
    "last_output = last_layer.output"
   ]
  },
  {
   "cell_type": "markdown",
   "metadata": {
    "colab_type": "text",
    "id": "XxHk6XQLeUWh"
   },
   "source": [
    "Now let's stick a fully connected classifier on top of `last_output`:"
   ]
  },
  {
   "cell_type": "code",
   "execution_count": 0,
   "metadata": {
    "colab": {},
    "colab_type": "code",
    "id": "BMXb913pbvFg"
   },
   "outputs": [],
   "source": [
    "from tensorflow.keras.optimizers import RMSprop\n",
    "\n",
    "# Flatten the output layer to 1 dimension\n",
    "x = layers.Flatten()(last_output)\n",
    "# Add a fully connected layer with 1,024 hidden units and ReLU activation\n",
    "x = layers.Dense(1024, activation='relu')(x)\n",
    "# Add a dropout rate of 0.2\n",
    "x = layers.Dropout(0.2)(x)\n",
    "# Add a final sigmoid layer for classification\n",
    "x = layers.Dense(1, activation='sigmoid')(x)\n",
    "\n",
    "# Configure and compile the model\n",
    "model = Model(pre_trained_model.input, x)\n",
    "model.compile(loss='binary_crossentropy',\n",
    "              optimizer=RMSprop(lr=0.0001),\n",
    "              metrics=['acc'])"
   ]
  },
  {
   "cell_type": "markdown",
   "metadata": {
    "colab_type": "text",
    "id": "_6ECjowwV5Ug"
   },
   "source": [
    "For examples and data preprocessing, let's use the same files and `train_generator` as we did in Exercise 2."
   ]
  },
  {
   "cell_type": "markdown",
   "metadata": {
    "colab_type": "text",
    "id": "Cl-IqOTjZVw_"
   },
   "source": [
    "**NOTE:** The 2,000 images used in this exercise are excerpted from the [\"Dogs vs. Cats\" dataset](https://www.kaggle.com/c/dogs-vs-cats/data) available on Kaggle, which contains 25,000 images. Here, we use a subset of the full dataset to decrease training time for educational purposes."
   ]
  },
  {
   "cell_type": "code",
   "execution_count": 8,
   "metadata": {
    "colab": {
     "base_uri": "https://localhost:8080/",
     "height": 201
    },
    "colab_type": "code",
    "id": "O4s8HckqGlnb",
    "outputId": "2df238d6-4cac-4f6b-fedd-f4483f31230d"
   },
   "outputs": [
    {
     "name": "stdout",
     "output_type": "stream",
     "text": [
      "--2020-06-12 06:13:41--  https://storage.googleapis.com/mledu-datasets/cats_and_dogs_filtered.zip\n",
      "Resolving storage.googleapis.com (storage.googleapis.com)... 74.125.203.128, 2404:6800:4008:c07::80\n",
      "Connecting to storage.googleapis.com (storage.googleapis.com)|74.125.203.128|:443... connected.\n",
      "HTTP request sent, awaiting response... 200 OK\n",
      "Length: 68606236 (65M) [application/zip]\n",
      "Saving to: ‘/tmp/cats_and_dogs_filtered.zip’\n",
      "\n",
      "\r",
      "          /tmp/cats   0%[                    ]       0  --.-KB/s               \r",
      "         /tmp/cats_  58%[==========>         ]  38.15M   191MB/s               \r",
      "/tmp/cats_and_dogs_ 100%[===================>]  65.43M   210MB/s    in 0.3s    \n",
      "\n",
      "2020-06-12 06:13:42 (210 MB/s) - ‘/tmp/cats_and_dogs_filtered.zip’ saved [68606236/68606236]\n",
      "\n"
     ]
    }
   ],
   "source": [
    "!wget --no-check-certificate \\\n",
    "   https://storage.googleapis.com/mledu-datasets/cats_and_dogs_filtered.zip -O \\\n",
    "   /tmp/cats_and_dogs_filtered.zip"
   ]
  },
  {
   "cell_type": "code",
   "execution_count": 9,
   "metadata": {
    "colab": {
     "base_uri": "https://localhost:8080/",
     "height": 50
    },
    "colab_type": "code",
    "id": "Fl9XXARuV_eg",
    "outputId": "30324783-1098-46be-b4c0-daac27f6ad83"
   },
   "outputs": [
    {
     "name": "stdout",
     "output_type": "stream",
     "text": [
      "Found 2000 images belonging to 2 classes.\n",
      "Found 1000 images belonging to 2 classes.\n"
     ]
    }
   ],
   "source": [
    "import os\n",
    "import zipfile\n",
    "\n",
    "from tensorflow.keras.preprocessing.image import ImageDataGenerator\n",
    "\n",
    "local_zip = '/tmp/cats_and_dogs_filtered.zip'\n",
    "zip_ref = zipfile.ZipFile(local_zip, 'r')\n",
    "zip_ref.extractall('/tmp')\n",
    "zip_ref.close()\n",
    "\n",
    "# Define our example directories and files\n",
    "base_dir = '/tmp/cats_and_dogs_filtered'\n",
    "train_dir = os.path.join(base_dir, 'train')\n",
    "validation_dir = os.path.join(base_dir, 'validation')\n",
    "\n",
    "# Directory with our training cat pictures\n",
    "train_cats_dir = os.path.join(train_dir, 'cats')\n",
    "\n",
    "# Directory with our training dog pictures\n",
    "train_dogs_dir = os.path.join(train_dir, 'dogs')\n",
    "\n",
    "# Directory with our validation cat pictures\n",
    "validation_cats_dir = os.path.join(validation_dir, 'cats')\n",
    "\n",
    "# Directory with our validation dog pictures\n",
    "validation_dogs_dir = os.path.join(validation_dir, 'dogs')\n",
    "\n",
    "train_cat_fnames = os.listdir(train_cats_dir)\n",
    "train_dog_fnames = os.listdir(train_dogs_dir)\n",
    "\n",
    "# Add our data-augmentation parameters to ImageDataGenerator\n",
    "train_datagen = ImageDataGenerator(\n",
    "    rescale=1./255,\n",
    "    rotation_range=40,\n",
    "    width_shift_range=0.2,\n",
    "    height_shift_range=0.2,\n",
    "    shear_range=0.2,\n",
    "    zoom_range=0.2,\n",
    "    horizontal_flip=True)\n",
    "\n",
    "# Note that the validation data should not be augmented!\n",
    "val_datagen = ImageDataGenerator(rescale=1./255)\n",
    "\n",
    "train_generator = train_datagen.flow_from_directory(\n",
    "        train_dir, # This is the source directory for training images\n",
    "        target_size=(150, 150),  # All images will be resized to 150x150\n",
    "        batch_size=20,\n",
    "        # Since we use binary_crossentropy loss, we need binary labels\n",
    "        class_mode='binary')\n",
    "\n",
    "# Flow validation images in batches of 20 using val_datagen generator\n",
    "validation_generator = val_datagen.flow_from_directory(\n",
    "        validation_dir,\n",
    "        target_size=(150, 150),\n",
    "        batch_size=20,\n",
    "        class_mode='binary')"
   ]
  },
  {
   "cell_type": "markdown",
   "metadata": {
    "colab_type": "text",
    "id": "qEC1AL7iVRLz"
   },
   "source": [
    "Finally, let's train the model using the features we extracted. We'll train on all 2000 images available, for 2 epochs, and validate on all 1,000 validation images."
   ]
  },
  {
   "cell_type": "code",
   "execution_count": 10,
   "metadata": {
    "colab": {
     "base_uri": "https://localhost:8080/",
     "height": 154
    },
    "colab_type": "code",
    "id": "Blhq2MAUeyGA",
    "outputId": "ef245126-45ec-4b73-ae6f-fd4d4f4045d4"
   },
   "outputs": [
    {
     "name": "stdout",
     "output_type": "stream",
     "text": [
      "WARNING:tensorflow:From <ipython-input-10-223274cfaaff>:7: Model.fit_generator (from tensorflow.python.keras.engine.training) is deprecated and will be removed in a future version.\n",
      "Instructions for updating:\n",
      "Please use Model.fit, which supports generators.\n",
      "Epoch 1/2\n",
      "100/100 - 17s - loss: 0.3631 - acc: 0.8585 - val_loss: 0.1103 - val_acc: 0.9570\n",
      "Epoch 2/2\n",
      "100/100 - 17s - loss: 0.2052 - acc: 0.9200 - val_loss: 0.2491 - val_acc: 0.9170\n"
     ]
    }
   ],
   "source": [
    "history = model.fit_generator(\n",
    "      train_generator,\n",
    "      steps_per_epoch=100,\n",
    "      epochs=2,\n",
    "      validation_data=validation_generator,\n",
    "      validation_steps=50,\n",
    "      verbose=2)"
   ]
  },
  {
   "cell_type": "markdown",
   "metadata": {
    "colab_type": "text",
    "id": "lRjyAkE62aOG"
   },
   "source": [
    "You can see that we reach a validation accuracy of 88–90% very quickly. This is much better than the small model we trained from scratch."
   ]
  },
  {
   "cell_type": "markdown",
   "metadata": {
    "colab_type": "text",
    "id": "tt15y6IS2pBo"
   },
   "source": [
    "## Further Improving Accuracy with Fine-Tuning\n",
    "\n",
    "In our feature-extraction experiment, we only tried adding two classification layers on top of an Inception V3 layer. The weights of the pretrained network were not updated during training. One way to increase performance even further is to \"fine-tune\" the weights of the top layers of the pretrained model alongside the training of the top-level classifier. A couple of important notes on fine-tuning:\n",
    "\n",
    "- **Fine-tuning should only be attempted *after* you have trained the top-level classifier with the pretrained model set to non-trainable**. If you add a randomly initialized classifier on top of a pretrained model and attempt to train all layers jointly, the magnitude of the gradient updates will be too large (due to the random weights from the classifier), and your pretrained model will just forget everything it has learned.\n",
    "- Additionally, we **fine-tune only the *top layers* of the pre-trained model** rather than all layers of the pretrained model because, in a convnet, the higher up a layer is, the more specialized it is. The first few layers in a convnet learn very simple and generic features, which generalize to almost all types of images. But as you go higher up, the features are increasingly specific to the dataset that the model is trained on. The goal of fine-tuning is to adapt these specialized features to work with the new dataset.\n",
    "\n",
    "All we need to do to implement fine-tuning is to set the top layers of Inception V3 to be trainable, recompile the model (necessary for these changes to take effect), and resume training. Let's unfreeze all layers belonging to the `mixed7` module—i.e., all layers found after `mixed6`—and recompile the model:"
   ]
  },
  {
   "cell_type": "code",
   "execution_count": 0,
   "metadata": {
    "colab": {},
    "colab_type": "code",
    "id": "_l_J4S0Z2rgg"
   },
   "outputs": [],
   "source": [
    "from tensorflow.keras.optimizers import SGD\n",
    "\n",
    "unfreeze = False\n",
    "\n",
    "# Unfreeze all models after \"mixed6\"\n",
    "for layer in pre_trained_model.layers:\n",
    "  if unfreeze:\n",
    "    layer.trainable = True\n",
    "  if layer.name == 'mixed6':\n",
    "    unfreeze = True\n",
    "\n",
    "# As an optimizer, here we will use SGD \n",
    "# with a very low learning rate (0.00001)\n",
    "model.compile(loss='binary_crossentropy',\n",
    "              optimizer=SGD(\n",
    "                  lr=0.00001, \n",
    "                  momentum=0.9),\n",
    "              metrics=['acc'])"
   ]
  },
  {
   "cell_type": "markdown",
   "metadata": {
    "colab_type": "text",
    "id": "zE37ARlqY9da"
   },
   "source": [
    "Now let's retrain the model. We'll train on all 2000 images available, for 50 epochs, and validate on all 1,000 validation images. (This may take 15-20 minutes to run.)"
   ]
  },
  {
   "cell_type": "code",
   "execution_count": 12,
   "metadata": {
    "colab": {
     "base_uri": "https://localhost:8080/",
     "height": 1000
    },
    "colab_type": "code",
    "id": "o_GgDGG4Y_hJ",
    "outputId": "665653eb-c8e7-4574-812c-10e116082998"
   },
   "outputs": [
    {
     "name": "stdout",
     "output_type": "stream",
     "text": [
      "Epoch 1/50\n",
      "100/100 - 17s - loss: 0.3377 - acc: 0.8405 - val_loss: 0.1648 - val_acc: 0.9250\n",
      "Epoch 2/50\n",
      "100/100 - 17s - loss: 0.2445 - acc: 0.9015 - val_loss: 0.1421 - val_acc: 0.9440\n",
      "Epoch 3/50\n",
      "100/100 - 17s - loss: 0.2278 - acc: 0.8995 - val_loss: 0.1314 - val_acc: 0.9530\n",
      "Epoch 4/50\n",
      "100/100 - 16s - loss: 0.2126 - acc: 0.9215 - val_loss: 0.1270 - val_acc: 0.9520\n",
      "Epoch 5/50\n",
      "100/100 - 17s - loss: 0.2002 - acc: 0.9175 - val_loss: 0.1241 - val_acc: 0.9550\n",
      "Epoch 6/50\n",
      "100/100 - 17s - loss: 0.1993 - acc: 0.9220 - val_loss: 0.1219 - val_acc: 0.9530\n",
      "Epoch 7/50\n",
      "100/100 - 17s - loss: 0.1881 - acc: 0.9310 - val_loss: 0.1217 - val_acc: 0.9530\n",
      "Epoch 8/50\n",
      "100/100 - 17s - loss: 0.2019 - acc: 0.9190 - val_loss: 0.1204 - val_acc: 0.9530\n",
      "Epoch 9/50\n",
      "100/100 - 17s - loss: 0.2049 - acc: 0.9150 - val_loss: 0.1197 - val_acc: 0.9540\n",
      "Epoch 10/50\n",
      "100/100 - 17s - loss: 0.1846 - acc: 0.9310 - val_loss: 0.1182 - val_acc: 0.9530\n",
      "Epoch 11/50\n",
      "100/100 - 17s - loss: 0.2095 - acc: 0.9155 - val_loss: 0.1181 - val_acc: 0.9540\n",
      "Epoch 12/50\n",
      "100/100 - 17s - loss: 0.2134 - acc: 0.9170 - val_loss: 0.1177 - val_acc: 0.9540\n",
      "Epoch 13/50\n",
      "100/100 - 17s - loss: 0.1930 - acc: 0.9250 - val_loss: 0.1176 - val_acc: 0.9540\n",
      "Epoch 14/50\n",
      "100/100 - 17s - loss: 0.2020 - acc: 0.9210 - val_loss: 0.1171 - val_acc: 0.9560\n",
      "Epoch 15/50\n",
      "100/100 - 17s - loss: 0.1966 - acc: 0.9240 - val_loss: 0.1161 - val_acc: 0.9560\n",
      "Epoch 16/50\n",
      "100/100 - 17s - loss: 0.1988 - acc: 0.9200 - val_loss: 0.1153 - val_acc: 0.9560\n",
      "Epoch 17/50\n",
      "100/100 - 17s - loss: 0.1942 - acc: 0.9285 - val_loss: 0.1149 - val_acc: 0.9560\n",
      "Epoch 18/50\n",
      "100/100 - 17s - loss: 0.2021 - acc: 0.9245 - val_loss: 0.1145 - val_acc: 0.9550\n",
      "Epoch 19/50\n",
      "100/100 - 16s - loss: 0.1973 - acc: 0.9225 - val_loss: 0.1148 - val_acc: 0.9560\n",
      "Epoch 20/50\n",
      "100/100 - 17s - loss: 0.1968 - acc: 0.9205 - val_loss: 0.1140 - val_acc: 0.9560\n",
      "Epoch 21/50\n",
      "100/100 - 17s - loss: 0.2102 - acc: 0.9080 - val_loss: 0.1138 - val_acc: 0.9550\n",
      "Epoch 22/50\n",
      "100/100 - 17s - loss: 0.1896 - acc: 0.9225 - val_loss: 0.1129 - val_acc: 0.9560\n",
      "Epoch 23/50\n",
      "100/100 - 17s - loss: 0.1966 - acc: 0.9220 - val_loss: 0.1130 - val_acc: 0.9560\n",
      "Epoch 24/50\n",
      "100/100 - 17s - loss: 0.1948 - acc: 0.9175 - val_loss: 0.1125 - val_acc: 0.9570\n",
      "Epoch 25/50\n",
      "100/100 - 17s - loss: 0.1947 - acc: 0.9275 - val_loss: 0.1119 - val_acc: 0.9580\n",
      "Epoch 26/50\n",
      "100/100 - 17s - loss: 0.1888 - acc: 0.9225 - val_loss: 0.1119 - val_acc: 0.9550\n",
      "Epoch 27/50\n",
      "100/100 - 17s - loss: 0.1850 - acc: 0.9300 - val_loss: 0.1112 - val_acc: 0.9570\n",
      "Epoch 28/50\n",
      "100/100 - 16s - loss: 0.1841 - acc: 0.9290 - val_loss: 0.1111 - val_acc: 0.9570\n",
      "Epoch 29/50\n",
      "100/100 - 17s - loss: 0.1828 - acc: 0.9305 - val_loss: 0.1108 - val_acc: 0.9570\n",
      "Epoch 30/50\n",
      "100/100 - 16s - loss: 0.1855 - acc: 0.9265 - val_loss: 0.1100 - val_acc: 0.9580\n",
      "Epoch 31/50\n",
      "100/100 - 17s - loss: 0.1924 - acc: 0.9300 - val_loss: 0.1091 - val_acc: 0.9580\n",
      "Epoch 32/50\n",
      "100/100 - 17s - loss: 0.1922 - acc: 0.9265 - val_loss: 0.1100 - val_acc: 0.9580\n",
      "Epoch 33/50\n",
      "100/100 - 17s - loss: 0.1869 - acc: 0.9260 - val_loss: 0.1092 - val_acc: 0.9580\n",
      "Epoch 34/50\n",
      "100/100 - 17s - loss: 0.1830 - acc: 0.9315 - val_loss: 0.1084 - val_acc: 0.9580\n",
      "Epoch 35/50\n",
      "100/100 - 16s - loss: 0.1799 - acc: 0.9260 - val_loss: 0.1082 - val_acc: 0.9580\n",
      "Epoch 36/50\n",
      "100/100 - 17s - loss: 0.1860 - acc: 0.9240 - val_loss: 0.1080 - val_acc: 0.9580\n",
      "Epoch 37/50\n",
      "100/100 - 17s - loss: 0.2036 - acc: 0.9180 - val_loss: 0.1074 - val_acc: 0.9580\n",
      "Epoch 38/50\n",
      "100/100 - 17s - loss: 0.1934 - acc: 0.9215 - val_loss: 0.1074 - val_acc: 0.9590\n",
      "Epoch 39/50\n",
      "100/100 - 17s - loss: 0.1873 - acc: 0.9245 - val_loss: 0.1078 - val_acc: 0.9580\n",
      "Epoch 40/50\n",
      "100/100 - 17s - loss: 0.1927 - acc: 0.9220 - val_loss: 0.1072 - val_acc: 0.9590\n",
      "Epoch 41/50\n",
      "100/100 - 17s - loss: 0.1853 - acc: 0.9260 - val_loss: 0.1062 - val_acc: 0.9580\n",
      "Epoch 42/50\n",
      "100/100 - 17s - loss: 0.1894 - acc: 0.9235 - val_loss: 0.1067 - val_acc: 0.9590\n",
      "Epoch 43/50\n",
      "100/100 - 17s - loss: 0.1996 - acc: 0.9185 - val_loss: 0.1063 - val_acc: 0.9590\n",
      "Epoch 44/50\n",
      "100/100 - 17s - loss: 0.2002 - acc: 0.9200 - val_loss: 0.1058 - val_acc: 0.9590\n",
      "Epoch 45/50\n",
      "100/100 - 17s - loss: 0.1693 - acc: 0.9285 - val_loss: 0.1057 - val_acc: 0.9590\n",
      "Epoch 46/50\n",
      "100/100 - 17s - loss: 0.1857 - acc: 0.9225 - val_loss: 0.1050 - val_acc: 0.9600\n",
      "Epoch 47/50\n",
      "100/100 - 17s - loss: 0.1928 - acc: 0.9195 - val_loss: 0.1053 - val_acc: 0.9590\n",
      "Epoch 48/50\n",
      "100/100 - 17s - loss: 0.1669 - acc: 0.9415 - val_loss: 0.1048 - val_acc: 0.9590\n",
      "Epoch 49/50\n",
      "100/100 - 17s - loss: 0.1757 - acc: 0.9270 - val_loss: 0.1051 - val_acc: 0.9600\n",
      "Epoch 50/50\n",
      "100/100 - 17s - loss: 0.1803 - acc: 0.9260 - val_loss: 0.1050 - val_acc: 0.9600\n"
     ]
    }
   ],
   "source": [
    "history = model.fit_generator(\n",
    "      train_generator,\n",
    "      steps_per_epoch=100,\n",
    "      epochs=50,\n",
    "      validation_data=validation_generator,\n",
    "      validation_steps=50,\n",
    "      verbose=2)"
   ]
  },
  {
   "cell_type": "markdown",
   "metadata": {
    "colab_type": "text",
    "id": "3EPGn58ofwq5"
   },
   "source": [
    "We are seeing a nice improvement, with the validation loss going from ~1.7 down to ~1.2, and accuracy going from 88% to 92%. That's a 4.5% relative improvement in accuracy.\n",
    "\n",
    "Let's plot the training and validation loss and accuracy to show it conclusively:"
   ]
  },
  {
   "cell_type": "code",
   "execution_count": 15,
   "metadata": {
    "colab": {
     "base_uri": "https://localhost:8080/",
     "height": 578
    },
    "colab_type": "code",
    "id": "1FtxcKjJfxL9",
    "outputId": "c0005bfb-a58c-4506-b0e0-94e6e2395b55"
   },
   "outputs": [
    {
     "name": "stderr",
     "output_type": "stream",
     "text": [
      "No handles with labels found to put in legend.\n"
     ]
    },
    {
     "data": {
      "text/plain": [
       "Text(0.5, 1.0, 'Training and validation loss')"
      ]
     },
     "execution_count": 15,
     "metadata": {
      "tags": []
     },
     "output_type": "execute_result"
    },
    {
     "data": {
      "image/png": "[encoded data removed]",
      "text/plain": [
       "<Figure size 432x288 with 1 Axes>"
      ]
     },
     "metadata": {
      "needs_background": "light",
      "tags": []
     },
     "output_type": "display_data"
    },
    {
     "data": {
      "image/png": "[encoded data removed]",
      "text/plain": [
       "<Figure size 432x288 with 1 Axes>"
      ]
     },
     "metadata": {
      "needs_background": "light",
      "tags": []
     },
     "output_type": "display_data"
    }
   ],
   "source": [
    "%matplotlib inline\n",
    "\n",
    "import matplotlib.pyplot as plt\n",
    "import matplotlib.image as mpimg\n",
    "\n",
    "# Retrieve a list of accuracy results on training and validation data\n",
    "# sets for each training epoch\n",
    "acc = history.history['acc']\n",
    "val_acc = history.history['val_acc']\n",
    "\n",
    "# Retrieve a list of list results on training and validation data\n",
    "# sets for each training epoch\n",
    "loss = history.history['loss']\n",
    "val_loss = history.history['val_loss']\n",
    "\n",
    "# Get number of epochs\n",
    "epochs = range(len(acc))\n",
    "\n",
    "# Plot training and validation accuracy per epoch\n",
    "plt.plot(epochs, acc)\n",
    "plt.plot(epochs, val_acc)\n",
    "plt.title('Training and validation accuracy')\n",
    "\n",
    "plt.figure()\n",
    "\n",
    "# Plot training and validation loss per epoch\n",
    "plt.plot(epochs, loss)\n",
    "plt.plot(epochs, val_loss)\n",
    "plt.title('Training and validation loss')"
   ]
  },
  {
   "cell_type": "markdown",
   "metadata": {
    "colab_type": "text",
    "id": "X-fUIeizakjE"
   },
   "source": [
    "Congratulations! Using feature extraction and fine-tuning, you've built an image classification model that can identify cats vs. dogs in images with over 90% accuracy."
   ]
  },
  {
   "cell_type": "markdown",
   "metadata": {
    "colab_type": "text",
    "id": "x_ANwJCnx7w-"
   },
   "source": [
    "## Clean Up\n",
    "\n",
    "Run the following cell to terminate the kernel and free memory resources:"
   ]
  },
  {
   "cell_type": "code",
   "execution_count": 0,
   "metadata": {
    "colab": {},
    "colab_type": "code",
    "id": "-hUmyohAyBzh"
   },
   "outputs": [],
   "source": [
    "import os, signal\n",
    "os.kill(os.getpid(), signal.SIGKILL)"
   ]
  }
 ],
 "metadata": {
  "accelerator": "GPU",
  "colab": {
   "collapsed_sections": [
    "jTEzoMx6CasV"
   ],
   "name": "image_classification_part3.ipynb",
   "provenance": []
  },
  "kernelspec": {
   "display_name": "Python 3",
   "language": "python",
   "name": "python3"
  },
  "language_info": {
   "codemirror_mode": {
    "name": "ipython",
    "version": 3
   },
   "file_extension": ".py",
   "mimetype": "text/x-python",
   "name": "python",
   "nbconvert_exporter": "python",
   "pygments_lexer": "ipython3",
   "version": "3.7.7"
  }
 },
 "nbformat": 4,
 "nbformat_minor": 1
}
