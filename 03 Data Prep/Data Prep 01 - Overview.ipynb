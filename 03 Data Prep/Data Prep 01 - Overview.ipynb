{
 "cells": [
  {
   "attachments": {},
   "cell_type": "markdown",
   "metadata": {},
   "source": [
    "## Data Preparation and Feature Engineering in ML\n",
    "\n",
    "Machine learning helps us find patterns in data—patterns we then use to make predictions about new data points. To get those predictions right, we must construct the [data set](https://developers.google.com/machine-learning/glossary/#data_set) and transform the data correctly. This course covers these two key steps. We'll also see how training/serving considerations play into these steps.\n",
    "\n",
    "![](01.png)\n",
    "\n",
    "### Objectives:\n",
    "1. Recognize the relative impact of data quality and size to algorithms.\n",
    "2. Set informed and realistic expectations for the time to transform the data.\n",
    "3. Explain a typical process for data collection and transformation within the overall ML workflow.\n",
    "4. Collect raw data and construct a data set.\n",
    "5. Sample and split your data set with considerations for imbalanced data.\n",
    "6. Transform numerical and categorical data.\n",
    "\n",
    "\n",
    "### Prerequisites\n",
    "This course assumes you have:\n",
    "\n",
    "- Completed Machine Learning Crash Course.\n",
    "\n",
    "### Why Learn About Data Preparation and Feature Engineering?\n",
    "You can think of feature engineering as helping the model to understand the data set in the same way you do. Learners often come to a machine learning course focused on model building, but end up spending much more time focusing on data.\n",
    "\n",
    "\n",
    "### Why is Collecting a Good Data Set Important?\n",
    "\n",
    "- Google Translat\n",
    "![](02.png)\n",
    "\n",
    "- Brain's Diabetic Retinopathy Project \n",
    "Google Brain's diabetic retinopathy project employed a neural network architecture, known as [Inception](https://www.tensorflow.org/tutorials/images/transfer_learning_with_hub), to detect disease by classifying images. The team didn't tweak models. Instead, they succeeded by creating a data set of 120,000 examples labeled by ophthalmologists. (Learn more at https://research.google.com/pubs/pub43022.html.)"
   ]
  },
  {
   "cell_type": "markdown",
   "metadata": {},
   "source": [
    "----------------"
   ]
  },
  {
   "cell_type": "markdown",
   "metadata": {},
   "source": [
    "## The Process for Data Preparation and Feature Engineering\n",
    "\n",
    "### What's the Process Like?\n",
    "As mentioned earlier, this course focuses on constructing your data set and transforming your data.\n",
    "\n",
    "![](03.png)\n",
    "\n",
    "Keep in mind:\n",
    "\n",
    "- The figure shows a typical process, which might not be ideal for every project. This course applies primarily to linear regression and neural nets.\n",
    "- The process shown is not always sequential. You might, for example, split your data after you transform it. You might need to collect more data. You might need to modify the feature set, even after training begins, as you learn empirically what works and what doesn't."
   ]
  }
 ],
 "metadata": {
  "kernelspec": {
   "display_name": "Python 3",
   "language": "python",
   "name": "python3"
  },
  "language_info": {
   "codemirror_mode": {
    "name": "ipython",
    "version": 3
   },
   "file_extension": ".py",
   "mimetype": "text/x-python",
   "name": "python",
   "nbconvert_exporter": "python",
   "pygments_lexer": "ipython3",
   "version": "3.7.7"
  }
 },
 "nbformat": 4,
 "nbformat_minor": 4
}
