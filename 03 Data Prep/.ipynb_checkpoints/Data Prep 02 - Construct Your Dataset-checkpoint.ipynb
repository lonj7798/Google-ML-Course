{
 "cells": [
  {
   "cell_type": "markdown",
   "metadata": {},
   "source": [
    "## Introduction to Constructing Your Dataset\n",
    "\n",
    "### Learning Objectives:\n",
    "- When measuring the quality of a dataset, consider reliability, feature representation, and availability at serving time.\n",
    "- Join logs from multiple and complex log sources.\n",
    "- Distinguish between direct and indirect labels.\n",
    "- Explain how a random split of data can result in an inaccurate classifier.\n",
    "- Use downsampling to handle imbalanced data.\n",
    "- Recognize how these sampling and filtering techniques impact your data."
   ]
  },
  {
   "cell_type": "markdown",
   "metadata": {},
   "source": [
    "### Steps to Constructing Your Dataset\n",
    "To construct your dataset (and before doing data transformation), you should:\n",
    "\n",
    "1. Collect the raw data.\n",
    "2. Identify feature and label sources.\n",
    "3. Select a sampling strategy.\n",
    "4. Split the data.\n",
    "\n",
    "These steps depend a lot on how you’ve framed your ML problem. Use the self-check below to refresh your memory about problem framing and to check your assumptions about data collection."
   ]
  },
  {
   "cell_type": "markdown",
   "metadata": {},
   "source": [
    "-------------"
   ]
  }
 ],
 "metadata": {
  "kernelspec": {
   "display_name": "Python 3",
   "language": "python",
   "name": "python3"
  },
  "language_info": {
   "codemirror_mode": {
    "name": "ipython",
    "version": 3
   },
   "file_extension": ".py",
   "mimetype": "text/x-python",
   "name": "python",
   "nbconvert_exporter": "python",
   "pygments_lexer": "ipython3",
   "version": "3.7.7"
  }
 },
 "nbformat": 4,
 "nbformat_minor": 4
}
